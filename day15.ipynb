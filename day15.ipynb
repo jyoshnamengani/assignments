{
  "nbformat": 4,
  "nbformat_minor": 0,
  "metadata": {
    "colab": {
      "provenance": [],
      "authorship_tag": "ABX9TyPNyepfkf9BVo+UlHXARGFD",
      "include_colab_link": true
    },
    "kernelspec": {
      "name": "python3",
      "display_name": "Python 3"
    },
    "language_info": {
      "name": "python"
    }
  },
  "cells": [
    {
      "cell_type": "markdown",
      "metadata": {
        "id": "view-in-github",
        "colab_type": "text"
      },
      "source": [
        "<a href=\"https://colab.research.google.com/github/jyoshnamengani/assignments/blob/main/day15.ipynb\" target=\"_parent\"><img src=\"https://colab.research.google.com/assets/colab-badge.svg\" alt=\"Open In Colab\"/></a>"
      ]
    },
    {
      "cell_type": "code",
      "source": [
        "\n",
        "import re\n",
        "\n",
        "def extract_emails(input_string):\n",
        "    \"\"\"\n",
        "    Extracts all email addresses from a given string.\n",
        "\n",
        "    Args:\n",
        "        input_string (str): The input string containing email addresses.\n",
        "\n",
        "    Returns:\n",
        "        list: A list of extracted email addresses.\n",
        "    \"\"\"\n",
        "    email_pattern = r'[a-zA-Z0-9._%+-]+@[a-zA-Z0-9.-]+\\.[a-zA-Z]{2,}'\n",
        "    emails = re.findall(email_pattern, input_string)\n",
        "    return emails\n",
        "if __name__ == \"__main__\":\n",
        "    test_string = 'Contact us at support@example.com and sales@example.org.'\n",
        "    extracted_emails = extract_emails(test_string)\n",
        "    print(\"Extracted Emails:\", extracted_emails)\n"
      ],
      "metadata": {
        "colab": {
          "base_uri": "https://localhost:8080/"
        },
        "id": "scrkUz6gVsio",
        "outputId": "c7c449ec-79cf-42f6-daa5-bb9641441808"
      },
      "execution_count": 8,
      "outputs": [
        {
          "output_type": "stream",
          "name": "stdout",
          "text": [
            "Extracted Emails: ['support@example.com', 'sales@example.org']\n"
          ]
        }
      ]
    },
    {
      "cell_type": "code",
      "source": [],
      "metadata": {
        "id": "2jbUmzMeWSVM"
      },
      "execution_count": null,
      "outputs": []
    }
  ]
}