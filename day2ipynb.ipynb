{
  "nbformat": 4,
  "nbformat_minor": 0,
  "metadata": {
    "colab": {
      "provenance": [],
      "authorship_tag": "ABX9TyMrZzMjKZdZrUvzQSD1XHUe",
      "include_colab_link": true
    },
    "kernelspec": {
      "name": "python3",
      "display_name": "Python 3"
    },
    "language_info": {
      "name": "python"
    }
  },
  "cells": [
    {
      "cell_type": "markdown",
      "metadata": {
        "id": "view-in-github",
        "colab_type": "text"
      },
      "source": [
        "<a href=\"https://colab.research.google.com/github/jyoshnamengani/assignments/blob/main/day2ipynb.ipynb\" target=\"_parent\"><img src=\"https://colab.research.google.com/assets/colab-badge.svg\" alt=\"Open In Colab\"/></a>"
      ]
    },
    {
      "cell_type": "code",
      "execution_count": 2,
      "metadata": {
        "colab": {
          "base_uri": "https://localhost:8080/"
        },
        "id": "VmTgsodpU7a2",
        "outputId": "5413da9a-6fcd-4a5e-9d7c-4fd3835139bf"
      },
      "outputs": [
        {
          "output_type": "stream",
          "name": "stdout",
          "text": [
            "First element of the list: 10\n",
            "First element of the tuple: 1\n",
            "Value of key 'a' in the dictionary: 100\n"
          ]
        }
      ],
      "source": [
        "my_list = [10, 20, 30, 40, 50]\n",
        "my_tuple = (1, 2, 3, 4, 5)\n",
        "my_dict = {'a': 100, 'b': 200, 'c': 300, 'd': 400, 'e': 500}\n",
        "\n",
        "list_first_element = my_list[0]\n",
        "tuple_first_element = my_tuple[0]\n",
        "dict_value_a = my_dict['a']\n",
        "\n",
        "print(\"First element of the list:\", list_first_element)\n",
        "print(\"First element of the tuple:\", tuple_first_element)\n",
        "print(\"Value of key 'a' in the dictionary:\", dict_value_a)\n",
        "\n"
      ]
    }
  ]
}