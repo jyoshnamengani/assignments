{
  "nbformat": 4,
  "nbformat_minor": 0,
  "metadata": {
    "colab": {
      "provenance": [],
      "authorship_tag": "ABX9TyNy4MchdseYmJ0oxIIuftS8",
      "include_colab_link": true
    },
    "kernelspec": {
      "name": "python3",
      "display_name": "Python 3"
    },
    "language_info": {
      "name": "python"
    }
  },
  "cells": [
    {
      "cell_type": "markdown",
      "metadata": {
        "id": "view-in-github",
        "colab_type": "text"
      },
      "source": [
        "<a href=\"https://colab.research.google.com/github/jyoshnamengani/assignments/blob/main/day28.ipynb\" target=\"_parent\"><img src=\"https://colab.research.google.com/assets/colab-badge.svg\" alt=\"Open In Colab\"/></a>"
      ]
    },
    {
      "cell_type": "code",
      "execution_count": 1,
      "metadata": {
        "colab": {
          "base_uri": "https://localhost:8080/"
        },
        "id": "eHchr_EAYXlg",
        "outputId": "ec7e4dce-4dd5-46a8-9a9e-4da3303cd0e4"
      },
      "outputs": [
        {
          "output_type": "stream",
          "name": "stdout",
          "text": [
            "Named Entities and their Types: [('Barack Obama', 'PERSON'), ('Hawaii', 'GPE'), ('44th', 'ORDINAL'), ('the United States', 'GPE')]\n"
          ]
        }
      ],
      "source": [
        "# Importing required libraries\n",
        "import spacy\n",
        "\n",
        "def perform_ner(text):\n",
        "    \"\"\"\n",
        "    Performs Named Entity Recognition (NER) on the given text using SpaCy.\n",
        "\n",
        "    Args:\n",
        "        text (str): The input text for NER.\n",
        "\n",
        "    Returns:\n",
        "        list: A list of tuples containing entities and their types.\n",
        "    \"\"\"\n",
        "    nlp = spacy.load(\"en_core_web_sm\")\n",
        "    doc = nlp(text)\n",
        "    entities = [(ent.text, ent.label_) for ent in doc.ents]\n",
        "    return entities\n",
        "if __name__ == \"__main__\":\n",
        "    text = \"Barack Obama was born in Hawaii and served as the 44th President of the United States.\"\n",
        "    ner_entities = perform_ner(text)\n",
        "    print(\"Named Entities and their Types:\", ner_entities)\n"
      ]
    }
  ]
}