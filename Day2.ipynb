{
  "nbformat": 4,
  "nbformat_minor": 0,
  "metadata": {
    "colab": {
      "provenance": [],
      "authorship_tag": "ABX9TyOExkSo4dPScpzfsf+9UZwX",
      "include_colab_link": true
    },
    "kernelspec": {
      "name": "python3",
      "display_name": "Python 3"
    },
    "language_info": {
      "name": "python"
    }
  },
  "cells": [
    {
      "cell_type": "markdown",
      "metadata": {
        "id": "view-in-github",
        "colab_type": "text"
      },
      "source": [
        "<a href=\"https://colab.research.google.com/github/jyoshnamengani/assignments/blob/main/Day2.ipynb\" target=\"_parent\"><img src=\"https://colab.research.google.com/assets/colab-badge.svg\" alt=\"Open In Colab\"/></a>"
      ]
    },
    {
      "cell_type": "code",
      "execution_count": null,
      "metadata": {
        "id": "AfzxUQMxTTLV"
      },
      "outputs": [],
      "source": [
        "my_list = [10, 20, 30, 40, 50]\n",
        "my_tuple = (1, 2, 3, 4, 5)\n",
        "my_dict = {'a': 100, 'b': 200, 'c': 300, 'd': 400, 'e': 500}\n",
        "\n",
        "list_first_element = my_list[0]\n",
        "tuple_first_element = my_tuple[0]\n",
        "dict_value_a = my_dict['a']\n",
        "\n",
        "print(\"First element of the list:\", list_first_element)\n",
        "print(\"First element of the tuple:\", tuple_first_element)\n",
        "print(\"Value of key 'a' in the dictionary:\", dict_value_a)\n"
      ]
    }
  ]
}