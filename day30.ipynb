{
  "cells": [
    {
      "cell_type": "markdown",
      "metadata": {
        "id": "view-in-github",
        "colab_type": "text"
      },
      "source": [
        "<a href=\"https://colab.research.google.com/github/jyoshnamengani/assignments/blob/main/day30.ipynb\" target=\"_parent\"><img src=\"https://colab.research.google.com/assets/colab-badge.svg\" alt=\"Open In Colab\"/></a>"
      ]
    },
    {
      "cell_type": "code",
      "execution_count": null,
      "metadata": {
        "colab": {
          "background_save": true
        },
        "id": "3VbgZaojY2Ey",
        "outputId": "164415d5-1315-4a14-c3cb-1c384acad049"
      },
      "outputs": [
        {
          "name": "stdout",
          "output_type": "stream",
          "text": [
            "Sentiment: Positive\n"
          ]
        }
      ],
      "source": [
        "# Importing required library\n",
        "from textblob import TextBlob\n",
        "\n",
        "def analyze_sentiment(text):\n",
        "    \"\"\"\n",
        "    Performs sentiment analysis on the given text using TextBlob.\n",
        "\n",
        "    Args:\n",
        "        text (str): The input text for sentiment analysis.\n",
        "\n",
        "    Returns:\n",
        "        str: The sentiment classification (Positive, Negative, or Neutral).\n",
        "    \"\"\"\n",
        "    blob = TextBlob(text)\n",
        "    polarity = blob.sentiment.polarity\n",
        "    if polarity > 0:\n",
        "        return \"Positive\"\n",
        "    elif polarity < 0:\n",
        "        return \"Negative\"\n",
        "    else:\n",
        "        return \"Neutral\"\n",
        "if __name__ == \"__main__\":\n",
        "    text = \"I absolutely love this product! It works like a charm.\"\n",
        "    sentiment = analyze_sentiment(text)\n",
        "    print(\"Sentiment:\", sentiment)"
      ]
    }
  ],
  "metadata": {
    "colab": {
      "provenance": [],
      "authorship_tag": "ABX9TyNmEt/2UbJ9Mvme+xdSnIgO",
      "include_colab_link": true
    },
    "kernelspec": {
      "display_name": "Python 3",
      "name": "python3"
    },
    "language_info": {
      "name": "python"
    }
  },
  "nbformat": 4,
  "nbformat_minor": 0
}