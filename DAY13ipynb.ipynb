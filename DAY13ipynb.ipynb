{
  "nbformat": 4,
  "nbformat_minor": 0,
  "metadata": {
    "colab": {
      "provenance": [],
      "authorship_tag": "ABX9TyNqMgnEUdhNvy+pubyHrjE9",
      "include_colab_link": true
    },
    "kernelspec": {
      "name": "python3",
      "display_name": "Python 3"
    },
    "language_info": {
      "name": "python"
    }
  },
  "cells": [
    {
      "cell_type": "markdown",
      "metadata": {
        "id": "view-in-github",
        "colab_type": "text"
      },
      "source": [
        "<a href=\"https://colab.research.google.com/github/jyoshnamengani/assignments/blob/main/DAY13ipynb.ipynb\" target=\"_parent\"><img src=\"https://colab.research.google.com/assets/colab-badge.svg\" alt=\"Open In Colab\"/></a>"
      ]
    },
    {
      "cell_type": "code",
      "execution_count": 1,
      "metadata": {
        "colab": {
          "base_uri": "https://localhost:8080/"
        },
        "id": "gOaFtzJv7wrD",
        "outputId": "a6ced8f4-c9f8-4ba0-fae5-7feb28639aa3"
      },
      "outputs": [
        {
          "output_type": "stream",
          "name": "stdout",
          "text": [
            "NLP\tPROPN\n",
            "is\tAUX\n",
            "amazing\tADJ\n",
            "and\tCCONJ\n",
            "fun\tADJ\n",
            "to\tPART\n",
            "learn\tVERB\n",
            ".\tPUNCT\n"
          ]
        }
      ],
      "source": [
        "import spacy\n",
        "\n",
        "# Load the spaCy language model\n",
        "nlp = spacy.load(\"en_core_web_sm\")\n",
        "\n",
        "# Define the sentence\n",
        "sentence = \"NLP is amazing and fun to learn.\"\n",
        "\n",
        "# Process the sentence with spaCy\n",
        "doc = nlp(sentence)\n",
        "\n",
        "# Print the tokens and their POS tags\n",
        "for token in doc:\n",
        "    print(f\"{token.text}\\t{token.pos_}\")"
      ]
    }
  ]
}