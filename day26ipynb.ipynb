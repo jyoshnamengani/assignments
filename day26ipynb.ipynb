{
  "nbformat": 4,
  "nbformat_minor": 0,
  "metadata": {
    "colab": {
      "provenance": [],
      "authorship_tag": "ABX9TyNtjb1fXH+ypP0x6fJbXWBs",
      "include_colab_link": true
    },
    "kernelspec": {
      "name": "python3",
      "display_name": "Python 3"
    },
    "language_info": {
      "name": "python"
    }
  },
  "cells": [
    {
      "cell_type": "markdown",
      "metadata": {
        "id": "view-in-github",
        "colab_type": "text"
      },
      "source": [
        "<a href=\"https://colab.research.google.com/github/jyoshnamengani/assignments/blob/main/day26ipynb.ipynb\" target=\"_parent\"><img src=\"https://colab.research.google.com/assets/colab-badge.svg\" alt=\"Open In Colab\"/></a>"
      ]
    },
    {
      "cell_type": "code",
      "execution_count": 1,
      "metadata": {
        "colab": {
          "base_uri": "https://localhost:8080/"
        },
        "id": "Gx_CAnk1XrGN",
        "outputId": "871e780b-bec7-40d1-c37b-03b086c4cb92"
      },
      "outputs": [
        {
          "output_type": "stream",
          "name": "stdout",
          "text": [
            "Cosine Similarity: 0.08704446792504217\n"
          ]
        }
      ],
      "source": [
        "# Importing required libraries\n",
        "from sklearn.feature_extraction.text import TfidfVectorizer\n",
        "from sklearn.metrics.pairwise import cosine_similarity\n",
        "\n",
        "def calculate_cosine_similarity(text1, text2):\n",
        "    \"\"\"\n",
        "    Calculates the cosine similarity between two strings using TfidfVectorizer.\n",
        "\n",
        "    Args:\n",
        "        text1 (str): The first text input.\n",
        "        text2 (str): The second text input.\n",
        "\n",
        "    Returns:\n",
        "        float: The cosine similarity score between the two texts.\n",
        "    \"\"\"\n",
        "    vectorizer = TfidfVectorizer()\n",
        "    tfidf_matrix = vectorizer.fit_transform([text1, text2])\n",
        "    similarity = cosine_similarity(tfidf_matrix[0:1], tfidf_matrix[1:2])\n",
        "\n",
        "    return similarity[0][0]\n",
        "if __name__ == \"__main__\":\n",
        "    text1 = \"Natural Language Processing is fascinating.\"\n",
        "    text2 = \"I find NLP to be a fascinating field of study.\"\n",
        "\n",
        "    similarity_score = calculate_cosine_similarity(text1, text2)\n",
        "    print(\"Cosine Similarity:\", similarity_score)\n"
      ]
    }
  ]
}