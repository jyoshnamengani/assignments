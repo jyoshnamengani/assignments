{
  "nbformat": 4,
  "nbformat_minor": 0,
  "metadata": {
    "colab": {
      "provenance": [],
      "authorship_tag": "ABX9TyNHf3aR/Fv6DeE1VH5xom2F",
      "include_colab_link": true
    },
    "kernelspec": {
      "name": "python3",
      "display_name": "Python 3"
    },
    "language_info": {
      "name": "python"
    }
  },
  "cells": [
    {
      "cell_type": "markdown",
      "metadata": {
        "id": "view-in-github",
        "colab_type": "text"
      },
      "source": [
        "<a href=\"https://colab.research.google.com/github/jyoshnamengani/assignments/blob/main/day22.ipynb\" target=\"_parent\"><img src=\"https://colab.research.google.com/assets/colab-badge.svg\" alt=\"Open In Colab\"/></a>"
      ]
    },
    {
      "cell_type": "code",
      "execution_count": null,
      "metadata": {
        "id": "wveJoACpJCx9",
        "colab": {
          "base_uri": "https://localhost:8080/"
        },
        "outputId": "c8a98ffa-4a5f-4770-949e-71225d14127a"
      },
      "outputs": [
        {
          "output_type": "stream",
          "name": "stdout",
          "text": [
            "Part-of-Speech Tags: [('NLP', 'PROPN'), ('is', 'AUX'), ('amazing', 'ADJ'), ('and', 'CCONJ'), ('fun', 'ADJ'), ('to', 'PART'), ('learn', 'VERB'), ('.', 'PUNCT')]\n"
          ]
        }
      ],
      "source": [
        "# Importing required libraries\n",
        "import spacy\n",
        "\n",
        "def pos_tagging(sentence):\n",
        "    \"\"\"\n",
        "    Performs part-of-speech tagging on the given sentence.\n",
        "\n",
        "    Args:\n",
        "        sentence (str): The input sentence for POS tagging.\n",
        "\n",
        "    Returns:\n",
        "        list: A list of tuples containing words and their POS tags.\n",
        "    \"\"\"\n",
        "    nlp = spacy.load(\"en_core_web_sm\")\n",
        "    doc = nlp(sentence)\n",
        "    pos_tags = [(token.text, token.pos_) for token in doc]\n",
        "    return pos_tags\n",
        "if __name__ == \"__main__\":\n",
        "    test_sentence = 'NLP is amazing and fun to learn.'\n",
        "    pos_tags = pos_tagging(test_sentence)\n",
        "    print(\"Part-of-Speech Tags:\", pos_tags)\n"
      ]
    }
  ]
}