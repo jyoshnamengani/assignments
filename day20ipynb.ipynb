{
  "nbformat": 4,
  "nbformat_minor": 0,
  "metadata": {
    "colab": {
      "provenance": [],
      "authorship_tag": "ABX9TyOordYYQAQeiUhtDBwQQXTt",
      "include_colab_link": true
    },
    "kernelspec": {
      "name": "python3",
      "display_name": "Python 3"
    },
    "language_info": {
      "name": "python"
    }
  },
  "cells": [
    {
      "cell_type": "markdown",
      "metadata": {
        "id": "view-in-github",
        "colab_type": "text"
      },
      "source": [
        "<a href=\"https://colab.research.google.com/github/jyoshnamengani/assignments/blob/main/day20ipynb.ipynb\" target=\"_parent\"><img src=\"https://colab.research.google.com/assets/colab-badge.svg\" alt=\"Open In Colab\"/></a>"
      ]
    },
    {
      "cell_type": "code",
      "execution_count": 1,
      "metadata": {
        "colab": {
          "base_uri": "https://localhost:8080/"
        },
        "id": "87Pc_iLOeTVn",
        "outputId": "03afcf7d-bca4-40af-818e-42343c66e4d5"
      },
      "outputs": [
        {
          "output_type": "stream",
          "name": "stdout",
          "text": [
            "Webpage Title: Example Domain\n"
          ]
        }
      ],
      "source": [
        "import requests\n",
        "from bs4 import BeautifulSoup\n",
        "\n",
        "def fetch_webpage_title(url):\n",
        "    \"\"\"\n",
        "    Fetches and prints the title of a webpage.\n",
        "\n",
        "    Args:\n",
        "        url (str): The URL of the webpage to fetch.\n",
        "\n",
        "    Returns:\n",
        "        str: The title of the webpage.\n",
        "    \"\"\"\n",
        "    try:\n",
        "        response = requests.get(url)\n",
        "        if response.status_code == 200:\n",
        "            soup = BeautifulSoup(response.content, 'html.parser')\n",
        "            title = soup.title.string if soup.title else \"No title found\"\n",
        "            return title\n",
        "        else:\n",
        "            return f\"Failed to fetch webpage. Status code: {response.status_code}\"\n",
        "    except Exception as e:\n",
        "        return f\"An error occurred: {e}\"\n",
        "if __name__ == \"__main__\":\n",
        "    test_url = 'https://example.com'\n",
        "    webpage_title = fetch_webpage_title(test_url)\n",
        "    print(\"Webpage Title:\", webpage_title)\n"
      ]
    },
    {
      "cell_type": "code",
      "source": [],
      "metadata": {
        "id": "KQiZ3MOxei7I"
      },
      "execution_count": null,
      "outputs": []
    }
  ]
}