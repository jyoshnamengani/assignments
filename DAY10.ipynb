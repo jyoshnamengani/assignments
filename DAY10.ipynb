{
  "nbformat": 4,
  "nbformat_minor": 0,
  "metadata": {
    "colab": {
      "provenance": [],
      "authorship_tag": "ABX9TyM7Ve+S3ST2PtSqIqQUTqEo",
      "include_colab_link": true
    },
    "kernelspec": {
      "name": "python3",
      "display_name": "Python 3"
    },
    "language_info": {
      "name": "python"
    }
  },
  "cells": [
    {
      "cell_type": "markdown",
      "metadata": {
        "id": "view-in-github",
        "colab_type": "text"
      },
      "source": [
        "<a href=\"https://colab.research.google.com/github/jyoshnamengani/assignments/blob/main/DAY10.ipynb\" target=\"_parent\"><img src=\"https://colab.research.google.com/assets/colab-badge.svg\" alt=\"Open In Colab\"/></a>"
      ]
    },
    {
      "cell_type": "code",
      "execution_count": 1,
      "metadata": {
        "id": "BoyiAOGrkWVO"
      },
      "outputs": [],
      "source": [
        "import re"
      ]
    },
    {
      "cell_type": "code",
      "source": [
        "def word_frequency(text):\n",
        "  \"\"\"\n",
        "  Calculates the frequency of each word in the given text.\n",
        "\n",
        "  Args:\n",
        "    text: The input text string.\n",
        "\n",
        "  Returns:\n",
        "    A dictionary containing word frequencies.\n",
        "  \"\"\"\n",
        "  import re  # Import the 're' module for regular expression operations\n",
        "\n",
        "  # Preprocess the text\n",
        "  text = text.lower()  # Convert to lowercase\n",
        "  text = re.sub(r'[^\\w\\s]', '', text)  # Remove punctuation\n",
        "  words = text.split()  # Split into words\n",
        "\n",
        "  # Calculate word frequencies\n",
        "  word_counts = {}\n",
        "  for word in words:\n",
        "    word_counts[word] = word_counts.get(word, 0) + 1\n",
        "\n",
        "  return word_counts\n",
        "\n",
        "# Example usage\n",
        "input_text = \"This is an example sentence. This text contains some sample words.\"\n",
        "word_freq = word_frequency(input_text)\n",
        "print(word_freq)"
      ],
      "metadata": {
        "colab": {
          "base_uri": "https://localhost:8080/"
        },
        "id": "JMhPilPrkyIX",
        "outputId": "9159deb3-a52d-4899-9e59-008cd4707378"
      },
      "execution_count": 4,
      "outputs": [
        {
          "output_type": "stream",
          "name": "stdout",
          "text": [
            "{'this': 2, 'is': 1, 'an': 1, 'example': 1, 'sentence': 1, 'text': 1, 'contains': 1, 'some': 1, 'sample': 1, 'words': 1}\n"
          ]
        }
      ]
    },
    {
      "cell_type": "code",
      "source": [],
      "metadata": {
        "id": "SM03GrTnk3Gd"
      },
      "execution_count": null,
      "outputs": []
    }
  ]
}