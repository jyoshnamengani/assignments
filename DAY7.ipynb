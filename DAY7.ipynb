{
  "nbformat": 4,
  "nbformat_minor": 0,
  "metadata": {
    "colab": {
      "provenance": [],
      "authorship_tag": "ABX9TyNnYoEi3rX4Klb5x2R47Brv",
      "include_colab_link": true
    },
    "kernelspec": {
      "name": "python3",
      "display_name": "Python 3"
    },
    "language_info": {
      "name": "python"
    }
  },
  "cells": [
    {
      "cell_type": "markdown",
      "metadata": {
        "id": "view-in-github",
        "colab_type": "text"
      },
      "source": [
        "<a href=\"https://colab.research.google.com/github/jyoshnamengani/assignments/blob/main/DAY7.ipynb\" target=\"_parent\"><img src=\"https://colab.research.google.com/assets/colab-badge.svg\" alt=\"Open In Colab\"/></a>"
      ]
    },
    {
      "cell_type": "code",
      "execution_count": 3,
      "metadata": {
        "colab": {
          "base_uri": "https://localhost:8080/"
        },
        "id": "f8PE9MLybLhQ",
        "outputId": "43e62762-c2f6-4835-d284-e08491121004"
      },
      "outputs": [
        {
          "output_type": "stream",
          "name": "stdout",
          "text": [
            "Requirement already satisfied: gensim in /usr/local/lib/python3.11/dist-packages (4.3.3)\n",
            "Requirement already satisfied: nltk in /usr/local/lib/python3.11/dist-packages (3.9.1)\n",
            "Requirement already satisfied: numpy<2.0,>=1.18.5 in /usr/local/lib/python3.11/dist-packages (from gensim) (1.26.4)\n",
            "Requirement already satisfied: scipy<1.14.0,>=1.7.0 in /usr/local/lib/python3.11/dist-packages (from gensim) (1.13.1)\n",
            "Requirement already satisfied: smart-open>=1.8.1 in /usr/local/lib/python3.11/dist-packages (from gensim) (7.1.0)\n",
            "Requirement already satisfied: click in /usr/local/lib/python3.11/dist-packages (from nltk) (8.1.8)\n",
            "Requirement already satisfied: joblib in /usr/local/lib/python3.11/dist-packages (from nltk) (1.4.2)\n",
            "Requirement already satisfied: regex>=2021.8.3 in /usr/local/lib/python3.11/dist-packages (from nltk) (2024.11.6)\n",
            "Requirement already satisfied: tqdm in /usr/local/lib/python3.11/dist-packages (from nltk) (4.67.1)\n",
            "Requirement already satisfied: wrapt in /usr/local/lib/python3.11/dist-packages (from smart-open>=1.8.1->gensim) (1.17.0)\n"
          ]
        },
        {
          "output_type": "stream",
          "name": "stderr",
          "text": [
            "[nltk_data] Downloading package wordnet to /root/nltk_data...\n",
            "[nltk_data]   Package wordnet is already up-to-date!\n"
          ]
        }
      ],
      "source": [
        "!pip install gensim nltk\n",
        "\n",
        "import gensim\n",
        "from gensim.utils import simple_preprocess\n",
        "from gensim.parsing.preprocessing import STOPWORDS\n",
        "from nltk.stem import WordNetLemmatizer, SnowballStemmer\n",
        "import nltk\n",
        "\n",
        "nltk.download('wordnet')\n",
        "\n",
        "def preprocess_text(text):\n",
        "    \"\"\"\n",
        "    Preprocesses the given text using Gensim and NLTK.\n",
        "\n",
        "    Args:\n",
        "      text: The input text string.\n",
        "\n",
        "    Returns:\n",
        "      A list of preprocessed words.\n",
        "    \"\"\"\n",
        "\n",
        "    # 1. Tokenization\n",
        "    words = [word for word in simple_preprocess(text)\n",
        "             if word not in STOPWORDS]\n",
        "\n",
        "    # 2. Stemming\n",
        "    stemmer = SnowballStemmer(\"english\")\n",
        "    stemmed_words = [stemmer.stem(word) for word in words]\n",
        "\n",
        "    # 3. Lemmatization\n",
        "    lemmatizer = WordNetLemmatizer()\n",
        "    lemmed_words = [lemmatizer.lemmatize(word, pos='v') for word in stemmed_words]\n",
        "\n",
        "    return lemmed_words\n"
      ]
    },
    {
      "cell_type": "code",
      "source": [
        "# Example Usage\n",
        "try:\n",
        "    with open(\"your_text_file.txt\", \"r\") as file:\n",
        "        text = file.read()\n",
        "except FileNotFoundError:\n",
        "    print(\"Error: 'your_text_file.txt' not found. Please make sure the file exists and is in the correct directory.\")\n",
        "    # You might want to exit the script here if the file is essential\n",
        "    # import sys\n",
        "    # sys.exit(1)\n",
        "    # Or, provide a default text if the file is missing\n",
        "    text = \"This is a default text because your_text_file.txt was not found.\"\n",
        "\n",
        "\n",
        "preprocessed_words = preprocess_text(text)\n",
        "print(preprocessed_words)"
      ],
      "metadata": {
        "colab": {
          "base_uri": "https://localhost:8080/"
        },
        "id": "LqimW8LHhAQh",
        "outputId": "b9ef794f-c7eb-4e05-c3e4-2f07194dd5d6"
      },
      "execution_count": 4,
      "outputs": [
        {
          "output_type": "stream",
          "name": "stdout",
          "text": [
            "Error: 'your_text_file.txt' not found. Please make sure the file exists and is in the correct directory.\n",
            "['default', 'text', 'your_text_fil', 'txt']\n"
          ]
        }
      ]
    }
  ]
}