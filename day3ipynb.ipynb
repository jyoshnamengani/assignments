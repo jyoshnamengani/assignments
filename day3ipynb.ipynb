{
  "nbformat": 4,
  "nbformat_minor": 0,
  "metadata": {
    "colab": {
      "provenance": [],
      "authorship_tag": "ABX9TyNBPm4dwqtNCnXT4cjDx7Nk",
      "include_colab_link": true
    },
    "kernelspec": {
      "name": "python3",
      "display_name": "Python 3"
    },
    "language_info": {
      "name": "python"
    }
  },
  "cells": [
    {
      "cell_type": "markdown",
      "metadata": {
        "id": "view-in-github",
        "colab_type": "text"
      },
      "source": [
        "<a href=\"https://colab.research.google.com/github/jyoshnamengani/assignments/blob/main/day3ipynb.ipynb\" target=\"_parent\"><img src=\"https://colab.research.google.com/assets/colab-badge.svg\" alt=\"Open In Colab\"/></a>"
      ]
    },
    {
      "cell_type": "code",
      "execution_count": 1,
      "metadata": {
        "id": "srs58aCrWdqT",
        "outputId": "7eba1889-26af-46e5-a557-706297fcf188",
        "colab": {
          "base_uri": "https://localhost:8080/"
        }
      },
      "outputs": [
        {
          "output_type": "stream",
          "name": "stdout",
          "text": [
            "Enter marks for subject 1: 50\n",
            "Enter marks for subject 2: 60\n",
            "Enter marks for subject 3: 70\n",
            "Grade: Fail\n"
          ]
        }
      ],
      "source": [
        "marks1 = float(input(\"Enter marks for subject 1: \"))\n",
        "marks2 = float(input(\"Enter marks for subject 2: \"))\n",
        "marks3 = float(input(\"Enter marks for subject 3: \"))\n",
        "\n",
        "average = (marks1 + marks2 + marks3) / 3\n",
        "\n",
        "if average >= 90:\n",
        "    grade = \"A\"\n",
        "elif 80 <= average < 90:\n",
        "    grade = \"B\"\n",
        "elif 70 <= average < 80:\n",
        "    grade = \"C\"\n",
        "else:\n",
        "    grade = \"Fail\"\n",
        "\n",
        "print(\"Grade:\", grade)\n"
      ]
    }
  ]
}