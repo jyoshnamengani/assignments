{
  "nbformat": 4,
  "nbformat_minor": 0,
  "metadata": {
    "colab": {
      "provenance": [],
      "authorship_tag": "ABX9TyPyUEhr54uE4GbhV3lal0Z2",
      "include_colab_link": true
    },
    "kernelspec": {
      "name": "python3",
      "display_name": "Python 3"
    },
    "language_info": {
      "name": "python"
    }
  },
  "cells": [
    {
      "cell_type": "markdown",
      "metadata": {
        "id": "view-in-github",
        "colab_type": "text"
      },
      "source": [
        "<a href=\"https://colab.research.google.com/github/jyoshnamengani/assignments/blob/main/DAY11.ipynb\" target=\"_parent\"><img src=\"https://colab.research.google.com/assets/colab-badge.svg\" alt=\"Open In Colab\"/></a>"
      ]
    },
    {
      "cell_type": "code",
      "execution_count": 1,
      "metadata": {
        "id": "kCCqsFd7l_ot"
      },
      "outputs": [],
      "source": [
        "import requests\n",
        "from bs4 import BeautifulSoup\n",
        "\n",
        "def get_page_title(url):\n",
        "  \"\"\"\n",
        "  Fetches the title of a webpage using requests and BeautifulSoup.\n",
        "\n",
        "  Args:\n",
        "    url: The URL of the webpage.\n",
        "\n",
        "  Returns:\n",
        "    The title of the webpage as a string, or None if not found.\n",
        "  \"\"\"\n",
        "\n",
        "  try:\n",
        "    # Send an HTTP GET request to the URL\n",
        "    response = requests.get(url)\n",
        "    response.raise_for_status()  # Raise an exception for non-200 status codes\n",
        "\n",
        "    # Parse the HTML content\n",
        "    soup = BeautifulSoup(response.content, 'html.parser')\n",
        "\n",
        "    # Find the title element\n",
        "    title_element = soup.find('title')\n",
        "\n",
        "    # Extract and return the title text if found\n",
        "    if title_element:\n",
        "      return title_element.text.strip()\n",
        "    else:\n",
        "      return None\n",
        "\n",
        "  except requests.exceptions.RequestException as e:\n",
        "    print(f\"An error occurred while fetching the webpage: {e}\")\n",
        "    return None\n"
      ]
    },
    {
      "cell_type": "code",
      "source": [
        "# Test the function\n",
        "url = 'https://example.com'\n",
        "title = get_page_title(url)\n",
        "\n",
        "if title:\n",
        "  print(f\"Title of '{url}': {title}\")\n",
        "else:\n",
        "  print(f\"Unable to find title for '{url}'.\")"
      ],
      "metadata": {
        "colab": {
          "base_uri": "https://localhost:8080/"
        },
        "id": "ZjsyV8GqmKeT",
        "outputId": "c369d42e-24b6-4410-e386-84cc185bee27"
      },
      "execution_count": 2,
      "outputs": [
        {
          "output_type": "stream",
          "name": "stdout",
          "text": [
            "Title of 'https://example.com': Example Domain\n"
          ]
        }
      ]
    }
  ]
}