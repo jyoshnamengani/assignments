{
  "nbformat": 4,
  "nbformat_minor": 0,
  "metadata": {
    "colab": {
      "provenance": [],
      "authorship_tag": "ABX9TyPkGSPkYFGVZhN2pKCX2YvA",
      "include_colab_link": true
    },
    "kernelspec": {
      "name": "python3",
      "display_name": "Python 3"
    },
    "language_info": {
      "name": "python"
    }
  },
  "cells": [
    {
      "cell_type": "markdown",
      "metadata": {
        "id": "view-in-github",
        "colab_type": "text"
      },
      "source": [
        "<a href=\"https://colab.research.google.com/github/jyoshnamengani/assignments/blob/main/day24.ipynb\" target=\"_parent\"><img src=\"https://colab.research.google.com/assets/colab-badge.svg\" alt=\"Open In Colab\"/></a>"
      ]
    },
    {
      "cell_type": "code",
      "execution_count": 1,
      "metadata": {
        "colab": {
          "base_uri": "https://localhost:8080/"
        },
        "id": "PYR1GG2GIrKW",
        "outputId": "5aa94b00-792c-4c0a-f974-ef9df694b4be"
      },
      "outputs": [
        {
          "output_type": "stream",
          "name": "stderr",
          "text": [
            "[nltk_data] Downloading package punkt to /root/nltk_data...\n",
            "[nltk_data]   Unzipping tokenizers/punkt.zip.\n"
          ]
        },
        {
          "output_type": "stream",
          "name": "stdout",
          "text": [
            "Most Common Words: Error: The file at sample.txt was not found.\n"
          ]
        }
      ],
      "source": [
        "import nltk\n",
        "from nltk.tokenize import word_tokenize\n",
        "from collections import Counter\n",
        "nltk.download('punkt')\n",
        "\n",
        "def get_most_common_words(file_path, num_words=10):\n",
        "    \"\"\"\n",
        "    Loads a text file, tokenizes the text, and displays the most common words.\n",
        "\n",
        "    Args:\n",
        "        file_path (str): The path to the text file.\n",
        "        num_words (int): The number of most common words to display (default is 10).\n",
        "\n",
        "    Returns:\n",
        "        list: A list of tuples containing the most common words and their counts.\n",
        "    \"\"\"\n",
        "    try:\n",
        "        with open(file_path, 'r') as file:\n",
        "            text = file.read()\n",
        "        tokens = word_tokenize(text)\n",
        "        words = [word.lower() for word in tokens if word.isalpha()]\n",
        "        word_counts = Counter(words)\n",
        "        most_common_words = word_counts.most_common(num_words)\n",
        "        return most_common_words\n",
        "\n",
        "    except FileNotFoundError:\n",
        "        return f\"Error: The file at {file_path} was not found.\"\n",
        "    except Exception as e:\n",
        "        return f\"An error occurred: {e}\"\n",
        "if __name__ == \"__main__\":\n",
        "    test_file_path = 'sample.txt'\n",
        "    most_common_words = get_most_common_words(test_file_path)\n",
        "    print(\"Most Common Words:\", most_common_words)\n"
      ]
    }
  ]
}