{
  "nbformat": 4,
  "nbformat_minor": 0,
  "metadata": {
    "colab": {
      "provenance": [],
      "authorship_tag": "ABX9TyMO+KIFhjdONUlH2yWple+D",
      "include_colab_link": true
    },
    "kernelspec": {
      "name": "python3",
      "display_name": "Python 3"
    },
    "language_info": {
      "name": "python"
    }
  },
  "cells": [
    {
      "cell_type": "markdown",
      "metadata": {
        "id": "view-in-github",
        "colab_type": "text"
      },
      "source": [
        "<a href=\"https://colab.research.google.com/github/jyoshnamengani/assignments/blob/main/DAY5.ipynb\" target=\"_parent\"><img src=\"https://colab.research.google.com/assets/colab-badge.svg\" alt=\"Open In Colab\"/></a>"
      ]
    },
    {
      "cell_type": "code",
      "execution_count": 1,
      "metadata": {
        "colab": {
          "base_uri": "https://localhost:8080/"
        },
        "id": "CUIN6sYnXojB",
        "outputId": "3fc3f705-66d8-4169-8cc0-2cf83aa20f33"
      },
      "outputs": [
        {
          "output_type": "stream",
          "name": "stdout",
          "text": [
            "this: 2\n",
            "is: 1\n",
            "a: 1\n",
            "sample: 2\n",
            "text.: 1\n",
            "text: 1\n",
            "contains: 1\n",
            "some: 1\n",
            "words.: 1\n"
          ]
        }
      ],
      "source": [
        "def count_word_frequencies(text):\n",
        "  \"\"\"\n",
        "  Calculates the frequency of each word in the given text.\n",
        "\n",
        "  Args:\n",
        "    text: The input text string.\n",
        "\n",
        "  Returns:\n",
        "    A dictionary where keys are words and values are their frequencies.\n",
        "  \"\"\"\n",
        "\n",
        "  words = text.lower().split()  # Convert to lowercase and split into words\n",
        "  word_counts = {}\n",
        "\n",
        "  for word in words:\n",
        "    if word in word_counts:\n",
        "      word_counts[word] += 1\n",
        "    else:\n",
        "      word_counts[word] = 1\n",
        "\n",
        "  return word_counts\n",
        "\n",
        "# Example usage\n",
        "text = \"This is a sample text. This text contains some sample words.\"\n",
        "word_frequencies = count_word_frequencies(text)\n",
        "\n",
        "# Print the word frequencies\n",
        "for word, count in word_frequencies.items():\n",
        "  print(f\"{word}: {count}\")"
      ]
    }
  ]
}